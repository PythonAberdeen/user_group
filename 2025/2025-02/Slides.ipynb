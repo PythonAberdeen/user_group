{
 "cells": [
  {
   "cell_type": "markdown",
   "id": "2061cd9b",
   "metadata": {
    "slideshow": {
     "slide_type": "slide"
    }
   },
   "source": [
    "# How Green is Your Code? Evaluating Python's Sustainability\n",
    "\n",
    "Dr Carlos Moreno-García\n",
    "\n",
    "Associate Professor\n",
    "\n",
    "RGU"
   ]
  },
  {
   "cell_type": "markdown",
   "id": "01023d37",
   "metadata": {
    "slideshow": {
     "slide_type": "subslide"
    }
   },
   "source": [
    "It all started when I was sent [this article](https://medium.com/codex/what-are-the-greenest-programming-languages-e738774b1957)\n",
    "\n",
    "![Fig 1](https://www.dropbox.com/scl/fi/7krxs6a10lalpoq6mj1el/fig1.png?rlkey=yzgmy3pl97dwpzknoak6fs9xj&raw=1)"
   ]
  },
  {
   "cell_type": "markdown",
   "id": "5da07f9e",
   "metadata": {
    "slideshow": {
     "slide_type": "subslide"
    }
   },
   "source": [
    "## Lessons learnt from the article"
   ]
  },
  {
   "cell_type": "markdown",
   "id": "8205af03",
   "metadata": {
    "slideshow": {
     "slide_type": "fragment"
    }
   },
   "source": [
    "This got evaluated back in 2017 at an academic conference!"
   ]
  },
  {
   "cell_type": "markdown",
   "id": "1b96f161",
   "metadata": {
    "slideshow": {
     "slide_type": "fragment"
    }
   },
   "source": [
    "Used Intel's Running Average Power Limit (RAPL) to measure energy consumption in different problems"
   ]
  },
  {
   "cell_type": "markdown",
   "id": "136e15c3",
   "metadata": {
    "slideshow": {
     "slide_type": "subslide"
    }
   },
   "source": [
    "Python is NOT a green language (consumes 75.88 more energy and takes 71.9 more time than C!)"
   ]
  },
  {
   "cell_type": "markdown",
   "id": "79833ea7",
   "metadata": {
    "slideshow": {
     "slide_type": "fragment"
    }
   },
   "source": [
    "Memory useage isn't as bad (only 2.8 times more than Pascal)"
   ]
  },
  {
   "cell_type": "markdown",
   "id": "3f4ab6d0",
   "metadata": {
    "slideshow": {
     "slide_type": "subslide"
    }
   },
   "source": [
    "Then I read this book..."
   ]
  },
  {
   "cell_type": "markdown",
   "id": "37b270c8",
   "metadata": {
    "slideshow": {
     "slide_type": "fragment"
    }
   },
   "source": [
    "![Fig 2](https://www.dropbox.com/scl/fi/ai6djmyxx4kmduub9si9z/fig2.png?rlkey=3aynip0pwemcjigqmrevjxio2&raw=1)"
   ]
  },
  {
   "cell_type": "markdown",
   "id": "5d2f4a58",
   "metadata": {
    "slideshow": {
     "slide_type": "subslide"
    }
   },
   "source": [
    "...and I saw that everything (including computing) has a carbon footprint!"
   ]
  },
  {
   "cell_type": "markdown",
   "id": "39c9cafb",
   "metadata": {
    "slideshow": {
     "slide_type": "fragment"
    }
   },
   "source": [
    "Measuring in ghge, here are the **carbon dioxide equivalents** ($co_{2}e$) for computing-related activies:"
   ]
  },
  {
   "cell_type": "markdown",
   "id": "e7f3a41c",
   "metadata": {
    "slideshow": {
     "slide_type": "fragment"
    }
   },
   "source": [
    "\"$co_{2}e$ is the total climate change impact of all the greenhouse gases caused by an item or activity expressed in terms of the amount of carbon dioxide that would have the same impact over a one-hundred year period\" - *Berners-Lee, 2022*"
   ]
  },
  {
   "cell_type": "markdown",
   "id": "c8734856",
   "metadata": {
    "slideshow": {
     "slide_type": "subslide"
    }
   },
   "source": [
    "A text message: 0.8 g"
   ]
  },
  {
   "cell_type": "markdown",
   "id": "45172413",
   "metadata": {
    "slideshow": {
     "slide_type": "fragment"
    }
   },
   "source": [
    "An Google search: 9.6 g"
   ]
  },
  {
   "cell_type": "markdown",
   "id": "d00e26cf",
   "metadata": {
    "slideshow": {
     "slide_type": "fragment"
    }
   },
   "source": [
    "An email: 29 g"
   ]
  },
  {
   "cell_type": "markdown",
   "id": "407d2739",
   "metadata": {
    "slideshow": {
     "slide_type": "fragment"
    }
   },
   "source": [
    "In 2019, OVO Energy ran a camapign to stop people sending \"needless\" thank you emails"
   ]
  },
  {
   "cell_type": "markdown",
   "id": "2f96fdd7",
   "metadata": {
    "slideshow": {
     "slide_type": "subslide"
    }
   },
   "source": [
    "A Zoom Call: 97 g/hour (althoug it saves **22 tons** when you have one rather than flying!)"
   ]
  },
  {
   "cell_type": "markdown",
   "id": "340e8e42",
   "metadata": {
    "slideshow": {
     "slide_type": "fragment"
    }
   },
   "source": [
    "Using a smartphone: 70 kg (154 lb) for one hour/day usage"
   ]
  },
  {
   "cell_type": "markdown",
   "id": "8bdf8dfe",
   "metadata": {
    "slideshow": {
     "slide_type": "fragment"
    }
   },
   "source": [
    "Global usage: 580 million tons!"
   ]
  },
  {
   "cell_type": "markdown",
   "id": "87647246",
   "metadata": {
    "slideshow": {
     "slide_type": "subslide"
    }
   },
   "source": [
    "A computer (and using it):"
   ]
  },
  {
   "cell_type": "markdown",
   "id": "143d7bd0",
   "metadata": {
    "slideshow": {
     "slide_type": "fragment"
    }
   },
   "source": [
    "Making the computer: 326 kg (717 lb) - 620 kg (1,364 lb)"
   ]
  },
  {
   "cell_type": "markdown",
   "id": "0aefbbd2",
   "metadata": {
    "slideshow": {
     "slide_type": "fragment"
    }
   },
   "source": [
    "Using it: 4 g per hour (computer on) to 130 g per hour (gaming)"
   ]
  },
  {
   "cell_type": "markdown",
   "id": "1702b14f",
   "metadata": {
    "slideshow": {
     "slide_type": "subslide"
    }
   },
   "source": [
    "Cryptocurrencies: 46 million tons (Bitcoin in 2019)"
   ]
  },
  {
   "cell_type": "markdown",
   "id": "662d6268",
   "metadata": {
    "slideshow": {
     "slide_type": "fragment"
    }
   },
   "source": [
    "The Cloud and the world's data centres: 160 million tons in 2020"
   ]
  },
  {
   "cell_type": "markdown",
   "id": "d20641bf",
   "metadata": {
    "slideshow": {
     "slide_type": "fragment"
    }
   },
   "source": [
    "The world's IT: 1.4 billion tons including all user devices, data centres, networks and smart things"
   ]
  },
  {
   "cell_type": "markdown",
   "id": "c3b400f2",
   "metadata": {
    "slideshow": {
     "slide_type": "subslide"
    }
   },
   "source": [
    "Finally, last year I decided to attend the 1ST International Workshop on Low Carbon Computing ([LOCO 2024](https://www.sicsa.ac.uk/loco/loco2024/)) in Glasgow!"
   ]
  },
  {
   "cell_type": "markdown",
   "id": "5f3590e8",
   "metadata": {
    "slideshow": {
     "slide_type": "fragment"
    }
   },
   "source": [
    "![Fig 3](https://www.dropbox.com/scl/fi/yr656sby6vv0bdcp1yktu/fig3.png?rlkey=nhsyvt0nywmsl2orf8qvzvzug&raw=1)"
   ]
  },
  {
   "cell_type": "markdown",
   "id": "84c00702",
   "metadata": {
    "slideshow": {
     "slide_type": "slide"
    }
   },
   "source": [
    "## Lessons learnt @ LOCO"
   ]
  },
  {
   "cell_type": "markdown",
   "id": "f42c3eae",
   "metadata": {
    "slideshow": {
     "slide_type": "subslide"
    }
   },
   "source": [
    "## Keynote talk by Anne Currie\n",
    "\n",
    "Sustainability and SciFi Writer, CEO of Strategically Green"
   ]
  },
  {
   "cell_type": "markdown",
   "id": "0e771256",
   "metadata": {
    "slideshow": {
     "slide_type": "subslide"
    }
   },
   "source": [
    "Go from Python to Cython!"
   ]
  },
  {
   "cell_type": "markdown",
   "id": "c36d6dd5",
   "metadata": {
    "slideshow": {
     "slide_type": "fragment"
    }
   },
   "source": [
    "Now Python has more underlying libraries in Rust, which is more efficient"
   ]
  },
  {
   "cell_type": "markdown",
   "id": "991fda4e",
   "metadata": {
    "slideshow": {
     "slide_type": "subslide"
    }
   },
   "source": [
    "**Always** update to the latest version, as this is cleaner!"
   ]
  },
  {
   "cell_type": "markdown",
   "id": "b87b30a9",
   "metadata": {
    "slideshow": {
     "slide_type": "fragment"
    }
   },
   "source": [
    "Well it depends... for instance you may need previous versions for code compatibility! Also, I need Jupyter Notebook <7 to run these slides!"
   ]
  },
  {
   "cell_type": "markdown",
   "id": "2721e863",
   "metadata": {
    "slideshow": {
     "slide_type": "slide"
    }
   },
   "source": [
    "## The Dark Side of Dark Mode\n",
    "\n",
    "[Paper](https://www.sicsa.ac.uk/wp-content/uploads/2024/11/LOCO2024_paper_12.pdf) by Zachary Datson, BBC"
   ]
  },
  {
   "cell_type": "markdown",
   "id": "24df209d",
   "metadata": {
    "slideshow": {
     "slide_type": "subslide"
    }
   },
   "source": [
    "![Fi](https://www.dropbox.com/scl/fi/456aw4d8m5s9ju69s527i/fi.jpg?rlkey=op35g85u38le75ni2gv0g998i&raw=1)"
   ]
  },
  {
   "cell_type": "markdown",
   "id": "09aba658",
   "metadata": {
    "slideshow": {
     "slide_type": "subslide"
    }
   },
   "source": [
    "Depending on the device and display type, at maximum brightness the display can account for nearly three quarters of total power consumption"
   ]
  },
  {
   "cell_type": "markdown",
   "id": "d84ddaaf",
   "metadata": {
    "slideshow": {
     "slide_type": "fragment"
    }
   },
   "source": [
    "It is **NOT** the same to use OLED or LCD! OLED emits light independently while LCD has backlight"
   ]
  },
  {
   "cell_type": "markdown",
   "id": "89f1f942",
   "metadata": {
    "slideshow": {
     "slide_type": "fragment"
    }
   },
   "source": [
    "LCD energy's consumption is unaffected by the content, while in OLED it is directly related!"
   ]
  },
  {
   "cell_type": "markdown",
   "id": "587d909c",
   "metadata": {
    "slideshow": {
     "slide_type": "subslide"
    }
   },
   "source": [
    "Studies have found that switching to darker colour schemes can significantly reduce power consumption for devices with OLED displays"
   ]
  },
  {
   "cell_type": "markdown",
   "id": "854da8b1",
   "metadata": {
    "slideshow": {
     "slide_type": "fragment"
    }
   },
   "source": [
    "However, we cannot be certain that dark mode is truly saving energy without examining its usage in the wild"
   ]
  },
  {
   "cell_type": "markdown",
   "id": "0169d654",
   "metadata": {
    "slideshow": {
     "slide_type": "fragment"
    }
   },
   "source": [
    "One such effect is that users may increase their device brightness to compensate for the darker content, potentially negating any energy savings"
   ]
  },
  {
   "cell_type": "markdown",
   "id": "80d2f44e",
   "metadata": {
    "slideshow": {
     "slide_type": "subslide"
    }
   },
   "source": [
    "### Experiment"
   ]
  },
  {
   "cell_type": "markdown",
   "id": "805a9818",
   "metadata": {
    "slideshow": {
     "slide_type": "fragment"
    }
   },
   "source": [
    "![F](https://www.dropbox.com/scl/fi/oxn779vkcjmb52audprdm/f.png?rlkey=lbhrraji2ilup9icc5kgi66zz&raw=1)"
   ]
  },
  {
   "cell_type": "markdown",
   "id": "9a6a18d7",
   "metadata": {
    "slideshow": {
     "slide_type": "subslide"
    }
   },
   "source": [
    "To investigate user behaviour, ten participants were seated 50cm from the test device displaying the BBC Sounds home page and asked to alter the brightness until they were comfortable with the viewing conditions."
   ]
  },
  {
   "cell_type": "markdown",
   "id": "1e8e9544",
   "metadata": {
    "slideshow": {
     "slide_type": "fragment"
    }
   },
   "source": [
    "![e1](https://www.dropbox.com/scl/fi/boelfja089u1o791jwkvx/e1.png?rlkey=y4gvv5evqfnl2s1iui8267br7&raw=1)"
   ]
  },
  {
   "cell_type": "markdown",
   "id": "aed4d424",
   "metadata": {
    "slideshow": {
     "slide_type": "subslide"
    }
   },
   "source": [
    "16 brightness levels in the x axis, measurements were done 5 times. No significant difference. However, brightness level significantly impacted power"
   ]
  },
  {
   "cell_type": "markdown",
   "id": "15d74d7e",
   "metadata": {
    "slideshow": {
     "slide_type": "fragment"
    }
   },
   "source": [
    "![e2](https://www.dropbox.com/scl/fi/3i9n4vf1eq6stenamawkb/e2.png?rlkey=hblu1n9g9gkb6mcia1r3g4w35&raw=1)"
   ]
  },
  {
   "cell_type": "markdown",
   "id": "44b41260",
   "metadata": {
    "slideshow": {
     "slide_type": "subslide"
    }
   },
   "source": [
    "Data analysis showed no significant difference between dimly and brightly lit environmental conditions (p=0.13).\n",
    "The colour scheme of displayed content however, strongly impacted preferred brightness level (p<0.001)."
   ]
  },
  {
   "cell_type": "markdown",
   "id": "ffb592d9",
   "metadata": {
    "slideshow": {
     "slide_type": "fragment"
    }
   },
   "source": [
    "![e3](https://www.dropbox.com/scl/fi/7oadq98e902zslhh9d00q/e3.png?rlkey=frb1b04xl6nz9me2cazi04anb&raw=1)"
   ]
  },
  {
   "cell_type": "markdown",
   "id": "2f6b727c",
   "metadata": {
    "slideshow": {
     "slide_type": "subslide"
    }
   },
   "source": [
    "Participants turned the test device brightness up higher for dark mode, irrespective of lighting environment."
   ]
  },
  {
   "cell_type": "markdown",
   "id": "dbc4f7e6",
   "metadata": {
    "slideshow": {
     "slide_type": "slide"
    }
   },
   "source": [
    "## Other metrics to use"
   ]
  },
  {
   "cell_type": "markdown",
   "id": "d0af995d",
   "metadata": {
    "slideshow": {
     "slide_type": "subslide"
    }
   },
   "source": [
    "Money!"
   ]
  },
  {
   "cell_type": "markdown",
   "id": "82c81028",
   "metadata": {
    "slideshow": {
     "slide_type": "fragment"
    }
   },
   "source": [
    "Carbon intensity used by \n",
    "\n",
    "    * All components\n",
    "    * Resources (water, heat, etc)\n",
    "    * Material wear\n",
    "    * Runtime and reproducibility"
   ]
  },
  {
   "cell_type": "markdown",
   "id": "dd34ce04",
   "metadata": {
    "slideshow": {
     "slide_type": "subslide"
    }
   },
   "source": [
    "Networking traffic (time of the day matters)"
   ]
  },
  {
   "cell_type": "markdown",
   "id": "50ed3c62",
   "metadata": {
    "slideshow": {
     "slide_type": "fragment"
    }
   },
   "source": [
    "Runtime Average Power Limit (RAPL)"
   ]
  },
  {
   "cell_type": "markdown",
   "id": "b5ba1683",
   "metadata": {
    "slideshow": {
     "slide_type": "subslide"
    }
   },
   "source": [
    "How much of the energy used comes from renewables"
   ]
  },
  {
   "cell_type": "markdown",
   "id": "f7ee7d78",
   "metadata": {
    "slideshow": {
     "slide_type": "fragment"
    }
   },
   "source": [
    "In Germany, there is a law that demands that energy companies tell you the percentage of energy coming to your house from renewables!"
   ]
  },
  {
   "cell_type": "markdown",
   "id": "ac211327",
   "metadata": {
    "slideshow": {
     "slide_type": "subslide"
    }
   },
   "source": [
    "![Fig](https://www.dropbox.com/scl/fi/qmaoky06xti2ktoidu975/fig.jpg?rlkey=vmnyoyuvl2a19yteck42mepy1&raw=1)"
   ]
  },
  {
   "cell_type": "markdown",
   "id": "4915c615",
   "metadata": {
    "slideshow": {
     "slide_type": "subslide"
    }
   },
   "source": [
    "## Frameworks to try"
   ]
  },
  {
   "cell_type": "markdown",
   "id": "0883f798",
   "metadata": {
    "slideshow": {
     "slide_type": "fragment"
    }
   },
   "source": [
    "[Cloud Carbon Footprint](https://www.cloudcarbonfootprint.org/)"
   ]
  },
  {
   "cell_type": "markdown",
   "id": "b3b97915",
   "metadata": {
    "slideshow": {
     "slide_type": "fragment"
    }
   },
   "source": [
    "[Green Algorithms](https://www.green-algorithms.org/)"
   ]
  },
  {
   "cell_type": "markdown",
   "id": "6e4f5d16",
   "metadata": {
    "slideshow": {
     "slide_type": "fragment"
    }
   },
   "source": [
    "[Green Metrics Tool](https://www.green-coding.io/products/green-metrics-tool/)"
   ]
  },
  {
   "cell_type": "markdown",
   "id": "e662ba18",
   "metadata": {
    "slideshow": {
     "slide_type": "subslide"
    }
   },
   "source": [
    "[Ichnos](https://www.sicsa.ac.uk/wp-content/uploads/2024/11/LOCO2024_paper_44.pdf)"
   ]
  },
  {
   "cell_type": "markdown",
   "id": "cdf5eb73",
   "metadata": {
    "slideshow": {
     "slide_type": "fragment"
    }
   },
   "source": [
    "Use a ligher OS for the evaluation e.g. NOP LINUX"
   ]
  },
  {
   "cell_type": "markdown",
   "id": "21e5ee81",
   "metadata": {
    "slideshow": {
     "slide_type": "fragment"
    }
   },
   "source": [
    "Install a smart metre!"
   ]
  },
  {
   "cell_type": "markdown",
   "id": "e58e8955",
   "metadata": {
    "slideshow": {
     "slide_type": "subslide"
    }
   },
   "source": [
    "## Is this just greenwashing?\n",
    "\n",
    "Some interesting reading material"
   ]
  },
  {
   "cell_type": "markdown",
   "id": "a7059103",
   "metadata": {
    "slideshow": {
     "slide_type": "fragment"
    }
   },
   "source": [
    "[Carbon Aware Computing: Next Green Breakthrough or New Greenwashing?](https://hackernoon.com/carbon-aware-computing-next-green-breakthrough-or-new-greenwashing)"
   ]
  },
  {
   "cell_type": "markdown",
   "id": "efdb0da3",
   "metadata": {
    "slideshow": {
     "slide_type": "fragment"
    }
   },
   "source": [
    "[Measuring Carbon is Not Enough — Unintended Consequences](https://adrianco.medium.com/measuring-carbon-is-not-enough-unintended-consequences-80dccef0d8c5)"
   ]
  },
  {
   "cell_type": "markdown",
   "id": "2ace6442",
   "metadata": {
    "slideshow": {
     "slide_type": "slide"
    }
   },
   "source": [
    "## My opinion on sustainable computing/AI"
   ]
  },
  {
   "cell_type": "markdown",
   "id": "587e5e69",
   "metadata": {
    "slideshow": {
     "slide_type": "subslide"
    }
   },
   "source": [
    "![c1](https://www.dropbox.com/scl/fi/ub2r4sejh7yqbn6rnjqoi/c1.gif?rlkey=vv5pceq723p97jhbtbzi1zl2w&raw=1)"
   ]
  },
  {
   "cell_type": "markdown",
   "id": "c277e496",
   "metadata": {
    "slideshow": {
     "slide_type": "subslide"
    }
   },
   "source": [
    "![c2](https://www.dropbox.com/scl/fi/53b6zuukvg4aoapbsjlra/c2.jpg?rlkey=z017xl647atujo4ptjugecy64&raw=1)"
   ]
  },
  {
   "cell_type": "markdown",
   "id": "fe8b7910",
   "metadata": {
    "slideshow": {
     "slide_type": "subslide"
    }
   },
   "source": [
    "![c3](https://www.dropbox.com/scl/fi/9ijxvb4zshdzjlngac35k/c3.jpg?rlkey=misjpwqjr29dx60uks43i5rjp&raw=1)"
   ]
  },
  {
   "cell_type": "markdown",
   "id": "7fd4fa84",
   "metadata": {
    "slideshow": {
     "slide_type": "subslide"
    }
   },
   "source": [
    "![c4](https://www.dropbox.com/scl/fi/5gtpu3l736kzft6u90txe/c4.gif?rlkey=diu1raq6cdxjfjztr3xo7myhd&raw=1)"
   ]
  },
  {
   "cell_type": "markdown",
   "id": "81a38c59",
   "metadata": {
    "slideshow": {
     "slide_type": "slide"
    }
   },
   "source": [
    "## Jupyter Energy\n",
    "\n",
    "[Paper](https://www.sicsa.ac.uk/wp-content/uploads/2024/11/LOCO2024_paper_41.pdf) by Marcel Garus, Sven Kohler, Andreas Polze, Hasso Plattner Institute, Germany"
   ]
  },
  {
   "cell_type": "markdown",
   "id": "673ffd12",
   "metadata": {
    "slideshow": {
     "slide_type": "subslide"
    }
   },
   "source": [
    "Garus et al. developed an extension for Jupyter Notebook to monitor energy consumption using>\n",
    "\n",
    "    * RAPL\n",
    "    * Microchip Power Monitor (MCP)\n",
    "    * NVIDIA Management Library (NVML)"
   ]
  },
  {
   "cell_type": "markdown",
   "id": "ba114e8c",
   "metadata": {
    "slideshow": {
     "slide_type": "subslide"
    }
   },
   "source": [
    "It reports\n",
    "\n",
    "    * Energy Server = RAPL + MCP + NVML\n",
    "    * Server Extension: Part using HTTP\n",
    "    * Notebook Extensions"
   ]
  },
  {
   "cell_type": "markdown",
   "id": "d684b21e",
   "metadata": {
    "slideshow": {
     "slide_type": "subslide"
    }
   },
   "source": [
    "![je1](https://www.dropbox.com/scl/fi/lvahb8f59rwsla7r13ds3/je1.png?rlkey=z88lt1waap1f2x5agltrgnej2&raw=1)"
   ]
  },
  {
   "cell_type": "markdown",
   "id": "338aca00",
   "metadata": {
    "slideshow": {
     "slide_type": "subslide"
    }
   },
   "source": [
    "![je2](https://www.dropbox.com/scl/fi/63tzengfyh648l890lrwl/je2.png?rlkey=2vpzybtld6zv7jf4rloji17tj&raw=1)"
   ]
  },
  {
   "cell_type": "markdown",
   "id": "9ae8bb8b",
   "metadata": {
    "slideshow": {
     "slide_type": "slide"
    }
   },
   "source": [
    "## Challenge?!\n",
    "\n",
    "[Install Jupyter Energy!](https://github.com/MarcelGarus/jupyter-energy)"
   ]
  },
  {
   "cell_type": "code",
   "execution_count": 1,
   "id": "cd068524",
   "metadata": {
    "slideshow": {
     "slide_type": "subslide"
    }
   },
   "outputs": [
    {
     "data": {
      "image/png": "[encoded data removed]",
      "text/plain": [
       "<Figure size 640x480 with 1 Axes>"
      ]
     },
     "metadata": {},
     "output_type": "display_data"
    }
   ],
   "source": [
    "from pylab import*\n",
    "from numpy import*\n",
    "y=arange(-9,11,.1)\n",
    "x=arange(-9,9,.1)\n",
    "x,y=meshgrid(x,y)\n",
    "contourf(x,y,(x*x*(x**2+2*y*y-y-40)+y*y*(y*y-y-40)+25*y+393)*((x+3)**2+(y-5)**2-2)*((x-3)**2+(y-5)**2-2)*(x*x+(y-2)**2-64),1,colors=(\"#F0E68C\",'#20B2AA'))\n",
    "show()"
   ]
  },
  {
   "cell_type": "code",
   "execution_count": null,
   "id": "489d5d14",
   "metadata": {
    "slideshow": {
     "slide_type": "-"
    }
   },
   "outputs": [],
   "source": [
    "## The end"
   ]
  }
 ],
 "metadata": {
  "celltoolbar": "Slideshow",
  "hide_input": false,
  "kernelspec": {
   "display_name": "Python 3 (ipykernel)",
   "language": "python",
   "name": "python3"
  },
  "language_info": {
   "codemirror_mode": {
    "name": "ipython",
    "version": 3
   },
   "file_extension": ".py",
   "mimetype": "text/x-python",
   "name": "python",
   "nbconvert_exporter": "python",
   "pygments_lexer": "ipython3",
   "version": "3.11.11"
  },
  "rise": {
   "enable_chalkboard": true,
   "scroll": true
  },
  "varInspector": {
   "cols": {
    "lenName": 16,
    "lenType": 16,
    "lenVar": 40
   },
   "kernels_config": {
    "python": {
     "delete_cmd_postfix": "",
     "delete_cmd_prefix": "del ",
     "library": "var_list.py",
     "varRefreshCmd": "print(var_dic_list())"
    },
    "r": {
     "delete_cmd_postfix": ") ",
     "delete_cmd_prefix": "rm(",
     "library": "var_list.r",
     "varRefreshCmd": "cat(var_dic_list()) "
    }
   },
   "types_to_exclude": [
    "module",
    "function",
    "builtin_function_or_method",
    "instance",
    "_Feature"
   ],
   "window_display": false
  }
 },
 "nbformat": 4,
 "nbformat_minor": 5
}
